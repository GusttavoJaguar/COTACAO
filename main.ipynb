{
 "cells": [
  {
   "cell_type": "code",
   "execution_count": 17,
   "metadata": {},
   "outputs": [
    {
     "name": "stdout",
     "output_type": "stream",
     "text": [
      "Defaulting to user installation because normal site-packages is not writeable\n",
      "Requirement already satisfied: Flask in c:\\users\\jaguar\\appdata\\roaming\\python\\python313\\site-packages (3.1.0)\n",
      "Requirement already satisfied: pandas in c:\\users\\jaguar\\appdata\\roaming\\python\\python313\\site-packages (2.2.3)\n",
      "Requirement already satisfied: requests in c:\\users\\jaguar\\appdata\\roaming\\python\\python313\\site-packages (2.32.3)\n",
      "Requirement already satisfied: beautifulsoup4 in c:\\users\\jaguar\\appdata\\roaming\\python\\python313\\site-packages (4.13.3)\n",
      "Requirement already satisfied: matplotlib in c:\\users\\jaguar\\appdata\\roaming\\python\\python313\\site-packages (3.10.1)\n",
      "Requirement already satisfied: Werkzeug>=3.1 in c:\\users\\jaguar\\appdata\\roaming\\python\\python313\\site-packages (from Flask) (3.1.3)\n",
      "Requirement already satisfied: Jinja2>=3.1.2 in c:\\users\\jaguar\\appdata\\roaming\\python\\python313\\site-packages (from Flask) (3.1.6)\n",
      "Requirement already satisfied: itsdangerous>=2.2 in c:\\users\\jaguar\\appdata\\roaming\\python\\python313\\site-packages (from Flask) (2.2.0)\n",
      "Requirement already satisfied: click>=8.1.3 in c:\\users\\jaguar\\appdata\\roaming\\python\\python313\\site-packages (from Flask) (8.1.8)\n",
      "Requirement already satisfied: blinker>=1.9 in c:\\users\\jaguar\\appdata\\roaming\\python\\python313\\site-packages (from Flask) (1.9.0)\n",
      "Requirement already satisfied: numpy>=1.26.0 in c:\\users\\jaguar\\appdata\\roaming\\python\\python313\\site-packages (from pandas) (2.2.3)\n",
      "Requirement already satisfied: python-dateutil>=2.8.2 in c:\\users\\jaguar\\appdata\\roaming\\python\\python313\\site-packages (from pandas) (2.9.0.post0)\n",
      "Requirement already satisfied: pytz>=2020.1 in c:\\users\\jaguar\\appdata\\roaming\\python\\python313\\site-packages (from pandas) (2025.1)\n",
      "Requirement already satisfied: tzdata>=2022.7 in c:\\users\\jaguar\\appdata\\roaming\\python\\python313\\site-packages (from pandas) (2025.1)\n",
      "Requirement already satisfied: charset-normalizer<4,>=2 in c:\\users\\jaguar\\appdata\\roaming\\python\\python313\\site-packages (from requests) (3.4.1)\n",
      "Requirement already satisfied: idna<4,>=2.5 in c:\\users\\jaguar\\appdata\\roaming\\python\\python313\\site-packages (from requests) (3.10)\n",
      "Requirement already satisfied: urllib3<3,>=1.21.1 in c:\\users\\jaguar\\appdata\\roaming\\python\\python313\\site-packages (from requests) (2.3.0)\n",
      "Requirement already satisfied: certifi>=2017.4.17 in c:\\users\\jaguar\\appdata\\roaming\\python\\python313\\site-packages (from requests) (2025.1.31)\n",
      "Requirement already satisfied: soupsieve>1.2 in c:\\users\\jaguar\\appdata\\roaming\\python\\python313\\site-packages (from beautifulsoup4) (2.6)\n",
      "Requirement already satisfied: typing-extensions>=4.0.0 in c:\\users\\jaguar\\appdata\\roaming\\python\\python313\\site-packages (from beautifulsoup4) (4.12.2)\n",
      "Requirement already satisfied: contourpy>=1.0.1 in c:\\users\\jaguar\\appdata\\roaming\\python\\python313\\site-packages (from matplotlib) (1.3.1)\n",
      "Requirement already satisfied: cycler>=0.10 in c:\\users\\jaguar\\appdata\\roaming\\python\\python313\\site-packages (from matplotlib) (0.12.1)\n",
      "Requirement already satisfied: fonttools>=4.22.0 in c:\\users\\jaguar\\appdata\\roaming\\python\\python313\\site-packages (from matplotlib) (4.56.0)\n",
      "Requirement already satisfied: kiwisolver>=1.3.1 in c:\\users\\jaguar\\appdata\\roaming\\python\\python313\\site-packages (from matplotlib) (1.4.8)\n",
      "Requirement already satisfied: packaging>=20.0 in c:\\users\\jaguar\\appdata\\roaming\\python\\python313\\site-packages (from matplotlib) (24.2)\n",
      "Requirement already satisfied: pillow>=8 in c:\\users\\jaguar\\appdata\\roaming\\python\\python313\\site-packages (from matplotlib) (11.1.0)\n",
      "Requirement already satisfied: pyparsing>=2.3.1 in c:\\users\\jaguar\\appdata\\roaming\\python\\python313\\site-packages (from matplotlib) (3.2.1)\n",
      "Requirement already satisfied: colorama in c:\\users\\jaguar\\appdata\\roaming\\python\\python313\\site-packages (from click>=8.1.3->Flask) (0.4.6)\n",
      "Requirement already satisfied: MarkupSafe>=2.0 in c:\\users\\jaguar\\appdata\\roaming\\python\\python313\\site-packages (from Jinja2>=3.1.2->Flask) (3.0.2)\n",
      "Requirement already satisfied: six>=1.5 in c:\\users\\jaguar\\appdata\\roaming\\python\\python313\\site-packages (from python-dateutil>=2.8.2->pandas) (1.17.0)\n"
     ]
    }
   ],
   "source": [
    "!pip install Flask pandas requests beautifulsoup4 matplotlib\n"
   ]
  },
  {
   "cell_type": "code",
   "execution_count": null,
   "metadata": {},
   "outputs": [
    {
     "name": "stdout",
     "output_type": "stream",
     "text": [
      " * Serving Flask app '__main__'\n",
      " * Debug mode: on\n"
     ]
    },
    {
     "name": "stderr",
     "output_type": "stream",
     "text": [
      "WARNING: This is a development server. Do not use it in a production deployment. Use a production WSGI server instead.\n",
      " * Running on http://127.0.0.1:5000\n",
      "Press CTRL+C to quit\n",
      " * Restarting with stat\n"
     ]
    },
    {
     "ename": "SystemExit",
     "evalue": "1",
     "output_type": "error",
     "traceback": [
      "An exception has occurred, use %tb to see the full traceback.\n",
      "\u001b[1;31mSystemExit\u001b[0m\u001b[1;31m:\u001b[0m 1\n"
     ]
    }
   ],
   "source": [
    "import requests\n",
    "import pandas as pd\n",
    "import matplotlib.pyplot as plt\n",
    "from bs4 import BeautifulSoup\n",
    "from flask import Flask, render_template\n",
    "\n",
    "app = Flask(__name__)\n",
    "\n",
    "# Função para limpar e converter valores numéricos\n",
    "def limpar_valor(valor):\n",
    "    # Remove os pontos e troca a vírgula por ponto\n",
    "    return float(valor.replace(\".\", \"\").replace(\",\", \".\"))\n",
    "\n",
    "# Função para realizar o Web Scraping\n",
    "def coletar_cotacoes():\n",
    "    url = \"https://br.investing.com/\"\n",
    "    headers = {\n",
    "        \"User-Agent\": \"Mozilla/5.0\"\n",
    "    }\n",
    "    response = requests.get(url, headers=headers)\n",
    "\n",
    "    # Valida a resposta\n",
    "    if response.status_code != 200:\n",
    "        raise Exception(\"Erro ao acessar a página.\")\n",
    "\n",
    "    # Parse do conteúdo HTML\n",
    "    soup = BeautifulSoup(response.text, 'html.parser')\n",
    "\n",
    "    # Localiza a tabela de cotações\n",
    "    tabela = soup.find(\"tbody\", {\"class\": \"datatable-v2_body__8TXQk\"})\n",
    "\n",
    "    # Coleta os dados das linhas\n",
    "    linhas = tabela.find_all(\"tr\")\n",
    "\n",
    "    # Prepara a lista de cotações\n",
    "    dados = []\n",
    "\n",
    "    for linha in linhas[1:]:\n",
    "        colunas = linha.find_all(\"td\")\n",
    "        if len(colunas) == 7:\n",
    "            moeda = colunas[0].text.strip()\n",
    "            try:\n",
    "                compra = limpar_valor(colunas[2].text.strip())\n",
    "                venda = limpar_valor(colunas[3].text.strip())\n",
    "            except ValueError:\n",
    "                print(f\"Erro ao converter valores: {colunas[2].text}, {colunas[3].text}\")\n",
    "                continue\n",
    "            variacao = colunas[8].text.strip()\n",
    "            dados.append([moeda, compra, venda, variacao, tempo])\n",
    "\n",
    "    # Cria um DataFrame com os dados\n",
    "    df = pd.DataFrame(dados, columns=[\"Moeda\", \"Compra\", \"Venda\", \"Variação\", \"Tempo\"])\n",
    "    \n",
    "    # Salva em CSV\n",
    "    df.to_csv(\"cotacoes.csv\", index=False, encoding='utf-8-sig')\n",
    "    print(\"Arquivo CSV gerado com sucesso!\")\n",
    "\n",
    "    return df\n",
    "\n",
    "# Função para gerar gráfico e salvar em static/\n",
    "def gerar_grafico(df):\n",
    "    plt.figure(figsize=(10, 6))\n",
    "    plt.bar(df[\"Moeda\"], df[\"Compra\"], color='green', label='Compra')\n",
    "    plt.bar(df[\"Moeda\"], df[\"Venda\"], color='red', label='Venda', alpha=0.7)\n",
    "\n",
    "    plt.title('Comparação de Cotações (Compra vs. Venda)')\n",
    "    plt.xlabel('Moeda')\n",
    "    plt.ylabel('Valor (R$)')\n",
    "    plt.legend()\n",
    "    plt.xticks(rotation=45)\n",
    "    plt.tight_layout()\n",
    "\n",
    "    # Salva o gráfico como imagem\n",
    "    plt.savefig('static/grafico.png')\n",
    "    print(\"Gráfico gerado com sucesso!\")\n",
    "\n",
    "@app.route('/')\n",
    "def index():\n",
    "    # Coletar cotações e gerar gráfico\n",
    "    df = coletar_cotacoes()\n",
    "    gerar_grafico(df)\n",
    "\n",
    "    # Converter DataFrame para HTML\n",
    "    tabela_html = df.to_html(index=False, classes=\"table table-striped\")\n",
    "\n",
    "    return render_template('index.html', tabela_html=tabela_html)\n",
    "\n",
    "if __name__ == '__main__':\n",
    "    app.run(debug=True)\n"
   ]
  }
 ],
 "metadata": {
  "kernelspec": {
   "display_name": "Python 3",
   "language": "python",
   "name": "python3"
  },
  "language_info": {
   "codemirror_mode": {
    "name": "ipython",
    "version": 3
   },
   "file_extension": ".py",
   "mimetype": "text/x-python",
   "name": "python",
   "nbconvert_exporter": "python",
   "pygments_lexer": "ipython3",
   "version": "3.13.1"
  }
 },
 "nbformat": 4,
 "nbformat_minor": 2
}
